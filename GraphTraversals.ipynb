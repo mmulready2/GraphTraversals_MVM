{
  "nbformat": 4,
  "nbformat_minor": 0,
  "metadata": {
    "colab": {
      "provenance": [],
      "include_colab_link": true
    },
    "kernelspec": {
      "name": "python3",
      "display_name": "Python 3"
    },
    "language_info": {
      "name": "python"
    }
  },
  "cells": [
    {
      "cell_type": "markdown",
      "metadata": {
        "id": "view-in-github",
        "colab_type": "text"
      },
      "source": [
        "<a href=\"https://colab.research.google.com/github/mmulready2/GraphTraversals_MVM/blob/main/GraphTraversals.ipynb\" target=\"_parent\"><img src=\"https://colab.research.google.com/assets/colab-badge.svg\" alt=\"Open In Colab\"/></a>"
      ]
    },
    {
      "cell_type": "markdown",
      "source": [
        "Below is the code for a Graph from our w3schools.com/dsa reading.\n",
        "\n",
        "TASKS:\n",
        "1. Add comments to the code below\n",
        "2. Create an example graph:\n",
        "    \n",
        "\"    A---B\n",
        "\"    |   |   \n",
        "\"    C---D---E\n",
        "\""
      ],
      "metadata": {
        "id": "LjF6vzz4R2GK"
      }
    },
    {
      "cell_type": "code",
      "execution_count": null,
      "metadata": {
        "id": "bGTAm-ORRlyi"
      },
      "outputs": [],
      "source": [
        "# ORIGINAL CODE\n",
        "class Graph:\n",
        "  \"\"\"Implement a unweighted undirected graph using an adjacency matrix\"\"\"\n",
        "    def __init__(self, size):\n",
        "      \"\"\" This constructor initializes the adj_matrix, size, and vertex \"\"\"\n",
        "        self.adj_matrix = [[0] * size for _ in range(size)]\n",
        "        self.size = size\n",
        "        self.vertex_data = [''] * size\n",
        "\n",
        "    def add_edge(self, u, v):\n",
        "        if 0 <= u < self.size and 0 <= v < self.size:\n",
        "            self.adj_matrix[u][v] = 1\n",
        "            self.adj_matrix[v][u] = 1\n",
        "\n",
        "    def add_vertex_data(self, vertex, data):\n",
        "        if 0 <= vertex < self.size:\n",
        "            self.vertex_data[vertex] = data\n",
        "\n",
        "    def print_graph(self):\n",
        "        print(\"Adjacency Matrix:\")\n",
        "        for row in self.adj_matrix:\n",
        "            print(' '.join(map(str, row)))\n",
        "        print(\"\\nVertex Data:\")\n",
        "        for vertex, data in enumerate(self.vertex_data):\n",
        "            print(f\"Vertex {vertex}: {data}\")"
      ]
    },
    {
      "cell_type": "code",
      "source": [
        "a = [1,2,3,4]\n",
        "b = [x*x for x in a]\n",
        "c = [2*y for y in a]\n",
        "print(b)\n",
        "print(c)"
      ],
      "metadata": {
        "id": "u5YBrwm4bXSs",
        "outputId": "00501e83-4a75-411c-db2b-f58b53e7f573",
        "colab": {
          "base_uri": "https://localhost:8080/"
        }
      },
      "execution_count": 3,
      "outputs": [
        {
          "output_type": "stream",
          "name": "stdout",
          "text": [
            "[1, 4, 9, 16]\n",
            "[2, 4, 6, 8]\n"
          ]
        }
      ]
    },
    {
      "cell_type": "code",
      "source": [
        "a = []\n",
        "for row in range(5):\n",
        "  a.append([])\n",
        "print(a)"
      ],
      "metadata": {
        "id": "PpQiqtOBcQjk",
        "outputId": "48476b8e-7115-46d5-bdb5-3bb99be26c81",
        "colab": {
          "base_uri": "https://localhost:8080/"
        }
      },
      "execution_count": 4,
      "outputs": [
        {
          "output_type": "stream",
          "name": "stdout",
          "text": [
            "[[], [], [], [], []]\n"
          ]
        }
      ]
    },
    {
      "cell_type": "code",
      "source": [
        "# CHANGED CODE\n",
        "class Graph:\n",
        "  \"\"\" Implement a unweighted undirected graph using an adjacency matrix \"\"\"\n",
        "  def __init__(self, size):\n",
        "    \"\"\" This constructor initializes the adj_matrix, size, and vertex\n",
        "    size is the number of vertices \"\"\"\n",
        "    self.adj_matrix = []\n",
        "    for row in range(size):\n",
        "      self.adj_matrix.append([])\n",
        "      for col in range(size):\n",
        "        self.adj_matrix[row].append(0)\n",
        "\n",
        "    self.size = size # copy the parameter to the size attribute\n",
        "    # self.vertex_data = [''] * size\n",
        "    self.vertex_data = []\n",
        "    for i in range(size):\n",
        "      self.vertex_data.append('')\n",
        "\n",
        "  def add_edge(self, u_index, v_index):\n",
        "    \"\"\" Given indices of two vertices w and v, alter the adj_matrix to have\n",
        "    1's indicating a connection between u and v \"\"\"\n",
        "    if 0 <= u_index < self.size and 0 <= v_index < self.size:\n",
        "        self.adj_matrix[u_index][v_index] = 1\n",
        "        self.adj_matrix[v_index][u_index] = 1\n",
        "\n",
        "  def edit_vertex_data(self, vertex, data):\n",
        "    \"\"\" \"\"\"\n",
        "    if 0 <= vertex < self.size:\n",
        "        self.vertex_data[vertex] = data\n",
        "\n",
        "  def print_graph(self):\n",
        "    print(\"Adjacency Matrix:\")\n",
        "    for row in self.adj_matrix:\n",
        "        print(' '.join(map(str, row)))\n",
        "    print(\"\\nVertex Data:\")\n",
        "    for vertex, data in enumerate(self.vertex_data):\n",
        "        print(f\"Vertex {vertex}: {data}\")"
      ],
      "metadata": {
        "id": "W-V7mEGOaTXU"
      },
      "execution_count": 6,
      "outputs": []
    },
    {
      "cell_type": "code",
      "source": [
        "graph1 = Graph(2)\n",
        "graph1.add_edge(0,1)\n",
        "graph1.edit_vertex_data(0, 'A')\n",
        "graph1.edit_vertex_data(1, 'B')\n",
        "graph1.print_graph()"
      ],
      "metadata": {
        "id": "2BTHP_YIfhmN",
        "outputId": "4c8a869b-50ab-4f98-eda7-a2cf204aca3d",
        "colab": {
          "base_uri": "https://localhost:8080/"
        }
      },
      "execution_count": 9,
      "outputs": [
        {
          "output_type": "stream",
          "name": "stdout",
          "text": [
            "Adjacency Matrix:\n",
            "0 1\n",
            "1 0\n",
            "\n",
            "Vertex Data:\n",
            "Vertex 0: A\n",
            "Vertex 1: B\n"
          ]
        }
      ]
    }
  ]
}